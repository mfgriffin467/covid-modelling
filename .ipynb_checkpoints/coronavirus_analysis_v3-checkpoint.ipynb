{
 "cells": [
  {
   "cell_type": "markdown",
   "metadata": {},
   "source": [
    "# Coronavirus time series"
   ]
  },
  {
   "cell_type": "markdown",
   "metadata": {},
   "source": [
    "## Libraries and data "
   ]
  },
  {
   "cell_type": "code",
   "execution_count": 34,
   "metadata": {},
   "outputs": [],
   "source": [
    "import numpy as np\n",
    "import pandas as pd\n",
    "import matplotlib.pyplot as plt\n",
    "import seaborn as sns\n",
    "from datetime import date\n",
    "from datetime import timedelta\n",
    "from dateutil import parser\n",
    "from tqdm import tqdm_notebook\n",
    "from scipy.integrate import odeint"
   ]
  },
  {
   "cell_type": "code",
   "execution_count": 35,
   "metadata": {},
   "outputs": [],
   "source": [
    "import chart_studio.plotly as py\n",
    "import plotly.graph_objects as go\n",
    "import plotly.express as px"
   ]
  },
  {
   "cell_type": "markdown",
   "metadata": {},
   "source": [
    "# fix aggregation issues for UK, US etc"
   ]
  },
  {
   "cell_type": "code",
   "execution_count": 36,
   "metadata": {},
   "outputs": [],
   "source": [
    "pd.set_option('display.max_rows', 200)\n",
    "pd.set_option('display.max_columns', 200)"
   ]
  },
  {
   "cell_type": "code",
   "execution_count": 37,
   "metadata": {},
   "outputs": [],
   "source": [
    "df_cases = pd.read_csv(\"https://raw.githubusercontent.com/CSSEGISandData/COVID-19/master/csse_covid_19_data/csse_covid_19_time_series/time_series_19-covid-Confirmed.csv\")\n",
    "df_deaths = pd.read_csv(\"https://raw.githubusercontent.com/CSSEGISandData/COVID-19/master/csse_covid_19_data/csse_covid_19_time_series/time_series_19-covid-Deaths.csv\")\n",
    "df_recovered = pd.read_csv(\"https://raw.githubusercontent.com/CSSEGISandData/COVID-19/master/csse_covid_19_data/csse_covid_19_time_series/time_series_19-covid-Recovered.csv\")\n",
    "world_pop = pd.read_csv(\"population_world_data.csv\", encoding='latin-1')\n",
    "hosp_beds = pd.read_csv(\"hospital_beds.csv\").drop(['country'], axis=1)"
   ]
  },
  {
   "cell_type": "code",
   "execution_count": 38,
   "metadata": {},
   "outputs": [
    {
     "data": {
      "text/html": [
       "<div>\n",
       "<style scoped>\n",
       "    .dataframe tbody tr th:only-of-type {\n",
       "        vertical-align: middle;\n",
       "    }\n",
       "\n",
       "    .dataframe tbody tr th {\n",
       "        vertical-align: top;\n",
       "    }\n",
       "\n",
       "    .dataframe thead th {\n",
       "        text-align: right;\n",
       "    }\n",
       "</style>\n",
       "<table border=\"1\" class=\"dataframe\">\n",
       "  <thead>\n",
       "    <tr style=\"text-align: right;\">\n",
       "      <th></th>\n",
       "      <th>Rank</th>\n",
       "      <th>Country</th>\n",
       "      <th>Population_2020</th>\n",
       "      <th>Yearly_Change</th>\n",
       "      <th>Net_Change</th>\n",
       "      <th>Density_(P/Km2)</th>\n",
       "      <th>Land Area_(Km2)</th>\n",
       "      <th>Migrants_(net)</th>\n",
       "      <th>Fertility_Rate</th>\n",
       "      <th>Median_Age</th>\n",
       "      <th>Urban_Pop %</th>\n",
       "      <th>World_Share</th>\n",
       "    </tr>\n",
       "  </thead>\n",
       "  <tbody>\n",
       "    <tr>\n",
       "      <td>0</td>\n",
       "      <td>1</td>\n",
       "      <td>China</td>\n",
       "      <td>1439323776</td>\n",
       "      <td>0.0039</td>\n",
       "      <td>5540090</td>\n",
       "      <td>153</td>\n",
       "      <td>9388211</td>\n",
       "      <td>-348399.0</td>\n",
       "      <td>1.7</td>\n",
       "      <td>38</td>\n",
       "      <td>0.61</td>\n",
       "      <td>0.1847</td>\n",
       "    </tr>\n",
       "    <tr>\n",
       "      <td>1</td>\n",
       "      <td>2</td>\n",
       "      <td>India</td>\n",
       "      <td>1380004385</td>\n",
       "      <td>0.0099</td>\n",
       "      <td>13586631</td>\n",
       "      <td>464</td>\n",
       "      <td>2973190</td>\n",
       "      <td>-532687.0</td>\n",
       "      <td>2.2</td>\n",
       "      <td>28</td>\n",
       "      <td>0.35</td>\n",
       "      <td>0.1770</td>\n",
       "    </tr>\n",
       "    <tr>\n",
       "      <td>2</td>\n",
       "      <td>3</td>\n",
       "      <td>United States</td>\n",
       "      <td>331002651</td>\n",
       "      <td>0.0059</td>\n",
       "      <td>1937734</td>\n",
       "      <td>36</td>\n",
       "      <td>9147420</td>\n",
       "      <td>954806.0</td>\n",
       "      <td>1.8</td>\n",
       "      <td>38</td>\n",
       "      <td>0.83</td>\n",
       "      <td>0.0425</td>\n",
       "    </tr>\n",
       "    <tr>\n",
       "      <td>3</td>\n",
       "      <td>4</td>\n",
       "      <td>Indonesia</td>\n",
       "      <td>273523615</td>\n",
       "      <td>0.0107</td>\n",
       "      <td>2898047</td>\n",
       "      <td>151</td>\n",
       "      <td>1811570</td>\n",
       "      <td>-98955.0</td>\n",
       "      <td>2.3</td>\n",
       "      <td>30</td>\n",
       "      <td>0.56</td>\n",
       "      <td>0.0351</td>\n",
       "    </tr>\n",
       "    <tr>\n",
       "      <td>4</td>\n",
       "      <td>5</td>\n",
       "      <td>Pakistan</td>\n",
       "      <td>220892340</td>\n",
       "      <td>0.0200</td>\n",
       "      <td>4327022</td>\n",
       "      <td>287</td>\n",
       "      <td>770880</td>\n",
       "      <td>-233379.0</td>\n",
       "      <td>3.6</td>\n",
       "      <td>23</td>\n",
       "      <td>0.35</td>\n",
       "      <td>0.0283</td>\n",
       "    </tr>\n",
       "  </tbody>\n",
       "</table>\n",
       "</div>"
      ],
      "text/plain": [
       "   Rank        Country  Population_2020  Yearly_Change  Net_Change  \\\n",
       "0     1          China       1439323776         0.0039     5540090   \n",
       "1     2          India       1380004385         0.0099    13586631   \n",
       "2     3  United States        331002651         0.0059     1937734   \n",
       "3     4      Indonesia        273523615         0.0107     2898047   \n",
       "4     5       Pakistan        220892340         0.0200     4327022   \n",
       "\n",
       "   Density_(P/Km2)  Land Area_(Km2)  Migrants_(net) Fertility_Rate Median_Age  \\\n",
       "0              153          9388211       -348399.0            1.7         38   \n",
       "1              464          2973190       -532687.0            2.2         28   \n",
       "2               36          9147420        954806.0            1.8         38   \n",
       "3              151          1811570        -98955.0            2.3         30   \n",
       "4              287           770880       -233379.0            3.6         23   \n",
       "\n",
       "  Urban_Pop %  World_Share  \n",
       "0        0.61       0.1847  \n",
       "1        0.35       0.1770  \n",
       "2        0.83       0.0425  \n",
       "3        0.56       0.0351  \n",
       "4        0.35       0.0283  "
      ]
     },
     "execution_count": 38,
     "metadata": {},
     "output_type": "execute_result"
    }
   ],
   "source": [
    "world_pop.head()"
   ]
  },
  {
   "cell_type": "code",
   "execution_count": 39,
   "metadata": {},
   "outputs": [],
   "source": [
    "latest_date = df_cases.columns[-1]"
   ]
  },
  {
   "cell_type": "code",
   "execution_count": 40,
   "metadata": {},
   "outputs": [],
   "source": [
    "#country_list = pd.DataFrame(df_cases[['Country/Region',latest_date]].sort_values(by=latest_date, ascending=False)['Country/Region'].unique(), \n",
    "#                            columns =['country'])"
   ]
  },
  {
   "cell_type": "code",
   "execution_count": 41,
   "metadata": {},
   "outputs": [],
   "source": [
    "world_pop['country_map'] = world_pop['Country'].apply(lambda x: 'Korea, South' if x == 'South Korea' else 'US' if x == 'United States' else x)"
   ]
  },
  {
   "cell_type": "code",
   "execution_count": 42,
   "metadata": {},
   "outputs": [],
   "source": [
    "df_merge = df_cases.merge(world_pop[['country_map', 'Population_2020']], how='left', left_on='Country/Region', right_on='country_map')\n",
    "df_merge = df_merge.merge(hosp_beds, how='left', left_on='Country/Region', right_on='country_map')\n",
    "df_merge['hospital_beds'] = df_merge['Population_2020'] * df_merge['hospital_beds_per_10000'] / 10000"
   ]
  },
  {
   "cell_type": "markdown",
   "metadata": {},
   "source": [
    "## Transposed view"
   ]
  },
  {
   "cell_type": "code",
   "execution_count": 43,
   "metadata": {},
   "outputs": [],
   "source": [
    "def df_transpose(df):\n",
    "    df2 = df.drop(['Province/State','Lat','Long'],axis=1).groupby(['Country/Region']).sum()\n",
    "    df3 = df2.reset_index().T\n",
    "    df3.columns = df3.iloc[0]\n",
    "    df3.drop(df3.index[0], inplace=True)\n",
    "    df3.index.rename('date', inplace=True)\n",
    "    df3.reset_index(inplace=True)    \n",
    "    df3['date'] = df3.date.apply(lambda x: parser.parse(x))\n",
    "    df3.set_index('date', inplace=True)\n",
    "    df3 = df3.apply(pd.to_numeric)\n",
    "    df3.reset_index(inplace=True)\n",
    "    return df3"
   ]
  },
  {
   "cell_type": "code",
   "execution_count": 44,
   "metadata": {},
   "outputs": [],
   "source": [
    "def df_melting(df, var):\n",
    "    df2 = pd.melt(df, id_vars=['date'], value_vars = df.columns.drop('date'),var_name='country', value_name=var)\n",
    "    return df2"
   ]
  },
  {
   "cell_type": "code",
   "execution_count": 45,
   "metadata": {},
   "outputs": [
    {
     "data": {
      "text/html": [
       "<div>\n",
       "<style scoped>\n",
       "    .dataframe tbody tr th:only-of-type {\n",
       "        vertical-align: middle;\n",
       "    }\n",
       "\n",
       "    .dataframe tbody tr th {\n",
       "        vertical-align: top;\n",
       "    }\n",
       "\n",
       "    .dataframe thead th {\n",
       "        text-align: right;\n",
       "    }\n",
       "</style>\n",
       "<table border=\"1\" class=\"dataframe\">\n",
       "  <thead>\n",
       "    <tr style=\"text-align: right;\">\n",
       "      <th></th>\n",
       "      <th>date</th>\n",
       "      <th>country</th>\n",
       "      <th>actual_cases</th>\n",
       "      <th>actual_deaths</th>\n",
       "      <th>actual_recovered</th>\n",
       "      <th>fatality_rate</th>\n",
       "    </tr>\n",
       "  </thead>\n",
       "  <tbody>\n",
       "    <tr>\n",
       "      <td>0</td>\n",
       "      <td>2020-01-22</td>\n",
       "      <td>Afghanistan</td>\n",
       "      <td>0</td>\n",
       "      <td>0</td>\n",
       "      <td>0</td>\n",
       "      <td>0.0</td>\n",
       "    </tr>\n",
       "    <tr>\n",
       "      <td>1</td>\n",
       "      <td>2020-01-23</td>\n",
       "      <td>Afghanistan</td>\n",
       "      <td>0</td>\n",
       "      <td>0</td>\n",
       "      <td>0</td>\n",
       "      <td>0.0</td>\n",
       "    </tr>\n",
       "    <tr>\n",
       "      <td>2</td>\n",
       "      <td>2020-01-24</td>\n",
       "      <td>Afghanistan</td>\n",
       "      <td>0</td>\n",
       "      <td>0</td>\n",
       "      <td>0</td>\n",
       "      <td>0.0</td>\n",
       "    </tr>\n",
       "    <tr>\n",
       "      <td>3</td>\n",
       "      <td>2020-01-25</td>\n",
       "      <td>Afghanistan</td>\n",
       "      <td>0</td>\n",
       "      <td>0</td>\n",
       "      <td>0</td>\n",
       "      <td>0.0</td>\n",
       "    </tr>\n",
       "    <tr>\n",
       "      <td>4</td>\n",
       "      <td>2020-01-26</td>\n",
       "      <td>Afghanistan</td>\n",
       "      <td>0</td>\n",
       "      <td>0</td>\n",
       "      <td>0</td>\n",
       "      <td>0.0</td>\n",
       "    </tr>\n",
       "  </tbody>\n",
       "</table>\n",
       "</div>"
      ],
      "text/plain": [
       "        date      country  actual_cases  actual_deaths  actual_recovered  \\\n",
       "0 2020-01-22  Afghanistan             0              0                 0   \n",
       "1 2020-01-23  Afghanistan             0              0                 0   \n",
       "2 2020-01-24  Afghanistan             0              0                 0   \n",
       "3 2020-01-25  Afghanistan             0              0                 0   \n",
       "4 2020-01-26  Afghanistan             0              0                 0   \n",
       "\n",
       "   fatality_rate  \n",
       "0            0.0  \n",
       "1            0.0  \n",
       "2            0.0  \n",
       "3            0.0  \n",
       "4            0.0  "
      ]
     },
     "execution_count": 45,
     "metadata": {},
     "output_type": "execute_result"
    }
   ],
   "source": [
    "# Transpose all feeds\n",
    "df_t_cases = df_transpose(df_cases)\n",
    "df_t_deaths = df_transpose(df_deaths)\n",
    "df_t_recovered = df_transpose(df_recovered)\n",
    "\n",
    "# Combine country columns to index\n",
    "df_t_cases = df_melting(df_t_cases, 'actual_cases')\n",
    "df_t_deaths = df_melting(df_t_deaths, 'actual_deaths')\n",
    "df_t_recovered = df_melting(df_t_recovered, 'actual_recovered')\n",
    "\n",
    "# Merge datasets\n",
    "df_comb = df_t_cases.merge(df_t_deaths, on = ['date', 'country'])\n",
    "df_comb = df_comb.merge(df_t_recovered, on = ['date', 'country'])\n",
    "df_comb['fatality_rate'] = (df_comb['actual_deaths']/df_comb['actual_cases']).fillna(0)\n",
    "df_comb.head()"
   ]
  },
  {
   "cell_type": "code",
   "execution_count": 46,
   "metadata": {},
   "outputs": [],
   "source": [
    "df_comb = df_comb.merge(world_pop[['country_map', 'Population_2020']], how='left', left_on='country', right_on='country_map')\n",
    "df_comb = df_comb.merge(hosp_beds, how='left', on='country_map')\n",
    "#df_comb.head()\n",
    "df_comb['hospital_beds'] = df_comb['Population_2020'] * df_comb['hospital_beds_per_10000'] / 10000"
   ]
  },
  {
   "cell_type": "markdown",
   "metadata": {},
   "source": [
    "## Output clean data"
   ]
  },
  {
   "cell_type": "code",
   "execution_count": 47,
   "metadata": {},
   "outputs": [],
   "source": [
    "#country_list.to_csv(\"bokeh/country_list.csv\", index=False)\n",
    "#country_list.to_csv(\"dash/country_list.csv\", index=False)\n",
    "\n",
    "#df_t_cases.to_csv('bokeh/df_t_cases.csv')\n",
    "#df_t_deaths.to_csv('bokeh/df_t_deaths.csv')\n",
    "#df_t_recovered.to_csv('bokeh/df_t_recovered.csv')\n",
    "#df_comb.to_csv('bokeh/df_comb.csv', index=False)\n",
    "\n",
    "#df_t_cases.to_csv('dash/df_t_cases.csv')\n",
    "#df_t_deaths.to_csv('dash/df_t_deaths.csv')\n",
    "#df_t_recovered.to_csv('dash/df_t_recovered.csv')\n",
    "#df_comb.to_csv('dash/df_comb.csv', index=False)"
   ]
  },
  {
   "cell_type": "markdown",
   "metadata": {},
   "source": [
    "## Forecasting model"
   ]
  },
  {
   "cell_type": "code",
   "execution_count": 48,
   "metadata": {},
   "outputs": [],
   "source": [
    "#start_date = '3/15/20'\n",
    "start_date = str(date.today().month) + '/' + str(date.today().day-1) + '/' + str(date.today().year - 2000) \n",
    "ctry = 'United Kingdom'\n",
    "max_pop = 0.7  # Max fraction of population impacted\n",
    "case_multiplier = 10"
   ]
  },
  {
   "cell_type": "code",
   "execution_count": 49,
   "metadata": {},
   "outputs": [
    {
     "data": {
      "text/plain": [
       "0    272\n",
       "Name: 3/19/20, dtype: int64"
      ]
     },
     "execution_count": 49,
     "metadata": {},
     "output_type": "execute_result"
    }
   ],
   "source": [
    "ctry = 'Thailand'\n",
    "df_cases[df_cases['Country/Region'] == ctry][start_date]"
   ]
  },
  {
   "cell_type": "code",
   "execution_count": 50,
   "metadata": {},
   "outputs": [],
   "source": [
    "I0 = case_multiplier * df_cases[df_cases['Country/Region'] == ctry][start_date].iloc[-1]\n",
    "R0 = case_multiplier * df_recovered[df_recovered['Country/Region'] == ctry][start_date].iloc[0]\n",
    "N = max_pop * df_merge[df_merge['Country/Region'] == ctry]['Population_2020'].iloc[0]\n",
    "beds = df_merge[df_merge['Country/Region'] == ctry]['hospital_beds'].iloc[0]"
   ]
  },
  {
   "cell_type": "code",
   "execution_count": 51,
   "metadata": {},
   "outputs": [],
   "source": [
    "# Set parameters\n",
    "# Based on https://drive.google.com/file/d/1DqfSnlaW6N3GBc5YKyBOCGPfdqOsqk1G/view\n",
    "\n",
    "#N = 66*10**6       # UK population\n",
    "#I0 = 1000          # Everyone else, S0, is susceptible to infection initially\n",
    "#R0 = 300           # Starting recoveries\n",
    "S0 = N - I0 - R0   # Susceptible \n",
    "beta = 0.3         # Population contact %\n",
    "gamma = 1./10      # Mean period while contagious\n",
    "hosp_rate = 0.05\n",
    "icu_rate = 0.025\n",
    "fr = 0.01/10\n",
    "time_window = 270\n"
   ]
  },
  {
   "cell_type": "code",
   "execution_count": 52,
   "metadata": {},
   "outputs": [
    {
     "name": "stdout",
     "output_type": "stream",
     "text": [
      "R0 is 2.9999999999999996\n"
     ]
    }
   ],
   "source": [
    "print(\"R0 is \" + str(beta / gamma))"
   ]
  },
  {
   "cell_type": "code",
   "execution_count": 53,
   "metadata": {},
   "outputs": [],
   "source": [
    "# Define SIR model\n",
    "\n",
    "t = np.linspace(0, time_window, time_window)\n",
    "def deriv(y, t, N, beta, gamma):\n",
    "    S, I, R = y\n",
    "    dSdt = -beta * S * I / N\n",
    "    dIdt = beta * S * I / N - gamma * I #- fr * I \n",
    "    dRdt = gamma * I\n",
    "    return dSdt, dIdt, dRdt"
   ]
  },
  {
   "cell_type": "code",
   "execution_count": 54,
   "metadata": {},
   "outputs": [],
   "source": [
    "# Initial conditions vector\n",
    "y0 = S0, I0, R0\n",
    "# Integrate the SIR equations over the time grid, t.\n",
    "ret = odeint(deriv, y0, t, args=(N, beta, gamma))\n",
    "S, I, R = ret.T"
   ]
  },
  {
   "cell_type": "code",
   "execution_count": 55,
   "metadata": {},
   "outputs": [],
   "source": [
    "H = I * hosp_rate\n",
    "ICU = I * icu_rate\n",
    "D = I * fr\n",
    "T = S + I + R\n",
    "fatalities = D.cumsum()\n",
    "beds = np.repeat(beds, time_window)\n",
    "#D = N - S - I - R"
   ]
  },
  {
   "cell_type": "code",
   "execution_count": 56,
   "metadata": {},
   "outputs": [
    {
     "data": {
      "image/png": "[encoded data removed]",
      "text/plain": [
       "<Figure size 432x288 with 1 Axes>"
      ]
     },
     "metadata": {},
     "output_type": "display_data"
    }
   ],
   "source": [
    "# Plot the data on three separate curves for S(t), I(t) and R(t)\n",
    "fig = plt.figure(facecolor='w')\n",
    "ax = fig.add_subplot(111, axisbelow=True)\n",
    "ax.plot(t, S, 'b', alpha=0.5, lw=2, label='Susceptible')\n",
    "ax.plot(t, I, 'r', alpha=0.5, lw=2, label='Infected')\n",
    "ax.plot(t, R, 'g', alpha=0.5, lw=2, label='Recovered with immunity')\n",
    "ax.plot(t, H/10**6, 'm', alpha=0.5, lw=2, label='Hospitalisations')\n",
    "ax.plot(t, ICU/10**6, 'r', alpha=0.5, lw=2, label='ICU')\n",
    "ax.plot(t, fatalities/10**6, 'k', alpha=0.5, lw=2, label='Deaths')\n",
    "ax.plot(t, beds/10**6, 'b', alpha=0.5, lw=2, label='beds')\n",
    "\n",
    "#ax.plot(t, D, 'r', alpha=0.5, lw=2, label='Deaths')\n",
    "ax.set_xlabel('Time /days')\n",
    "ax.set_ylabel('Number')\n",
    "ax.set_ylim(0,N)\n",
    "ax.yaxis.set_tick_params(length=0)\n",
    "ax.xaxis.set_tick_params(length=0)\n",
    "ax.grid(b=True, which='major', c='w', lw=2, ls='-')\n",
    "legend = ax.legend()\n",
    "legend.get_frame().set_alpha(0.5)\n",
    "for spine in ('top', 'right', 'bottom', 'left'):\n",
    "    ax.spines[spine].set_visible(False)\n",
    "plt.show()"
   ]
  },
  {
   "cell_type": "code",
   "execution_count": 57,
   "metadata": {},
   "outputs": [
    {
     "data": {
      "image/png": "[encoded data removed]",
      "text/plain": [
       "<Figure size 432x288 with 1 Axes>"
      ]
     },
     "metadata": {},
     "output_type": "display_data"
    }
   ],
   "source": [
    "# Plot the data on three separate curves for S(t), I(t) and R(t)\n",
    "fig = plt.figure(facecolor='w')\n",
    "ax = fig.add_subplot(111, axisbelow=True)\n",
    "ax.plot(t, H/10**6, 'm', alpha=0.5, lw=2, label='Hospitalisations')\n",
    "ax.plot(t, ICU/10**6, 'r', alpha=0.5, lw=2, label='ICU')\n",
    "ax.plot(t, fatalities/10**6, 'k', alpha=0.5, lw=2, label='Deaths')\n",
    "ax.plot(t, beds/10**6, 'b', alpha=0.5, lw=2, label='beds')\n",
    "ax.set_xlabel('Time /days')\n",
    "ax.set_ylabel('Millions')\n",
    "ax.set_ylim(0,max(H)/10**6)\n",
    "ax.yaxis.set_tick_params(length=0)\n",
    "ax.xaxis.set_tick_params(length=0)\n",
    "ax.grid(b=True, which='major', c='w', lw=2, ls='-')\n",
    "legend = ax.legend()\n",
    "legend.get_frame().set_alpha(0.5)\n",
    "for spine in ('top', 'right', 'bottom', 'left'):\n",
    "    ax.spines[spine].set_visible(False)\n",
    "plt.show()"
   ]
  },
  {
   "cell_type": "code",
   "execution_count": 58,
   "metadata": {},
   "outputs": [
    {
     "data": {
      "image/png": "[encoded data removed]",
      "text/plain": [
       "<Figure size 432x288 with 1 Axes>"
      ]
     },
     "metadata": {},
     "output_type": "display_data"
    }
   ],
   "source": [
    "# Plot the data on three separate curves for S(t), I(t) and R(t)\n",
    "fig = plt.figure(facecolor='w')\n",
    "ax = fig.add_subplot(111, axisbelow=True)\n",
    "ax.plot(t, I, 'r', alpha=0.5, lw=2, label='Infected')\n",
    "ax.plot(t, R, 'g', alpha=0.5, lw=2, label='Recovered with immunity')\n",
    "ax.plot(t, H, 'm', alpha=0.5, lw=2, label='Hospitalisations')\n",
    "ax.plot(t, ICU, 'r', alpha=0.5, lw=2, label='ICU')\n",
    "ax.plot(t, fatalities, 'k', alpha=0.5, lw=2, label='Deaths')\n",
    "ax.plot(t, beds, 'b', alpha=0.5, lw=2, label='beds')\n",
    "ax.set_xlabel('Time /days')\n",
    "ax.set_ylabel('Count')\n",
    "ax.set_ylim(0,max(I))\n",
    "ax.yaxis.set_tick_params(length=0)\n",
    "ax.xaxis.set_tick_params(length=0)\n",
    "ax.grid(b=True, which='major', c='w', lw=2, ls='-')\n",
    "legend = ax.legend()\n",
    "legend.get_frame().set_alpha(0.5)\n",
    "for spine in ('top', 'right', 'bottom', 'left'):\n",
    "    ax.spines[spine].set_visible(False)\n",
    "plt.show()"
   ]
  },
  {
   "cell_type": "code",
   "execution_count": 59,
   "metadata": {},
   "outputs": [
    {
     "name": "stdout",
     "output_type": "stream",
     "text": [
      "Projected max deaths per day: 14672.0\n",
      "Projected total deaths: 457815.0\n",
      "Projected % fatalities: 0.937%\n"
     ]
    }
   ],
   "source": [
    "print('Projected max deaths per day: ' + str(round(max(D))))\n",
    "print('Projected total deaths: ' + str(round(max(fatalities))))\n",
    "print('Projected % fatalities: ' + str(round(100 * max(fatalities)/N,4)) + '%')"
   ]
  },
  {
   "cell_type": "markdown",
   "metadata": {},
   "source": [
    "## Model projections"
   ]
  },
  {
   "cell_type": "markdown",
   "metadata": {},
   "source": [
    "Run loop\n",
    "\n",
    "projections = pd.DataFrame()\n",
    "\n",
    "for ctry in df_cases['Country/Region'].unique():\n",
    "    for beta in np.linspace(0.1,0.3,9):\n",
    "        \n",
    "       I0 = case_multiplier * df_cases[df_cases['Country/Region'] == ctry][start_date].iloc[-1]\n",
    "        I0 = df_cases[df_cases['Country/Region'] == ctry][start_date].iloc[-1]\n",
    "        R0 = df_recovered[df_recovered['Country/Region'] == ctry][start_date].iloc[0]\n",
    "        N = max_pop * df_merge[df_merge['Country/Region'] == ctry]['Population_2020'].iloc[0]\n",
    "        beds = df_merge[df_merge['Country/Region'] == ctry]['hospital_beds'].iloc[0]\n",
    "        S0 = N - I0 - R0\n",
    "\n",
    "        t = np.linspace(0, time_window, time_window+1)\n",
    "        y0 = S0, I0, R0\n",
    "        ret = odeint(deriv, y0, t, args=(N, beta, gamma))\n",
    "        S, I, R = ret.T\n",
    "\n",
    "        confirmed = I / case_multiplier\n",
    "        H = I * hosp_rate\n",
    "        ICU = I * icu_rate\n",
    "        D = I * fr\n",
    "        T = S + I + R\n",
    "        fatalities = D.cumsum()\n",
    "        beds = np.repeat(beds, time_window+1)\n",
    "\n",
    "        # Output results\n",
    "        new = pd.DataFrame(data=np.array([t,S,I,R,H,ICU,D,fatalities,beds]).T, \n",
    "                               columns=['days','susceptible','infections_detected','recovered',\n",
    "                                        'hospitalisation','icu','deaths','fatalities','beds'])\n",
    "        new['country'] = ctry\n",
    "        new['beta'] = beta\n",
    "\n",
    "        projections = pd.concat([projections,new], axis=0)"
   ]
  },
  {
   "cell_type": "code",
   "execution_count": 60,
   "metadata": {},
   "outputs": [],
   "source": [
    "#projections.to_csv('bokeh/projections.csv', index=False)\n",
    "#projections.to_csv('dash/projections.csv', index=False)"
   ]
  },
  {
   "cell_type": "code",
   "execution_count": 61,
   "metadata": {},
   "outputs": [],
   "source": [
    "# double every five days\n",
    "# 3 weeks being Italy"
   ]
  },
  {
   "cell_type": "markdown",
   "metadata": {},
   "source": [
    "## Model vs actuals"
   ]
  },
  {
   "cell_type": "code",
   "execution_count": 62,
   "metadata": {},
   "outputs": [],
   "source": [
    "start_date_dt = date(month = 3,day = 1,year = 2020)\n",
    "#start_date = str(date.today().month-1) + '/' + str(date.today().day-1) + '/' + str(date.today().year - 2000) \n",
    "ctry = 'Spain'\n",
    "frac = 0.7  # Max fraction of population impacted\n",
    "time_window = 180\n",
    "test_multiplier = 10"
   ]
  },
  {
   "cell_type": "code",
   "execution_count": null,
   "metadata": {},
   "outputs": [
    {
     "name": "stderr",
     "output_type": "stream",
     "text": [
      "C:\\Users\\Mike\\Anaconda3\\lib\\site-packages\\ipykernel_launcher.py:8: FutureWarning:\n",
      "\n",
      "Comparing Series of datetimes with 'datetime.date'.  Currently, the\n",
      "'datetime.date' is coerced to a datetime. In the future pandas will\n",
      "not coerce, and 'the values will not compare equal to the\n",
      "'datetime.date'. To retain the current behavior, convert the\n",
      "'datetime.date' to a datetime with 'pd.Timestamp'.\n",
      "\n",
      "C:\\Users\\Mike\\Anaconda3\\lib\\site-packages\\ipykernel_launcher.py:9: FutureWarning:\n",
      "\n",
      "Comparing Series of datetimes with 'datetime.date'.  Currently, the\n",
      "'datetime.date' is coerced to a datetime. In the future pandas will\n",
      "not coerce, and 'the values will not compare equal to the\n",
      "'datetime.date'. To retain the current behavior, convert the\n",
      "'datetime.date' to a datetime with 'pd.Timestamp'.\n",
      "\n"
     ]
    }
   ],
   "source": [
    "# Run loop\n",
    "projections = pd.DataFrame()\n",
    "\n",
    "for ctry in df_cases[['Country/Region', latest_date]].sort_values(by=latest_date, ascending=False).head(20)['Country/Region'].unique():\n",
    "    for beta in np.linspace(0.05,0.3,6):\n",
    "        for max_pop in [0.2,0.5,0.8]:\n",
    "        \n",
    "            I0 = test_multiplier * df_comb[(df_comb['country'] == ctry) & (df_comb['date'] == start_date_dt)].actual_cases.values[0]\n",
    "            R0 = df_comb[(df_comb['country'] == ctry) & (df_comb['date'] == start_date_dt)].actual_recovered.values[0]\n",
    "            N = max_pop * df_merge[df_merge['Country/Region'] == ctry]['Population_2020'].iloc[0]\n",
    "            beds = df_merge[df_merge['Country/Region'] == ctry]['hospital_beds'].iloc[0]\n",
    "            S0 = N - I0 - R0\n",
    "\n",
    "            t = np.linspace(0, time_window, time_window+1)\n",
    "            y0 = S0, I0, R0\n",
    "            ret = odeint(deriv, y0, t, args=(N, beta, gamma))\n",
    "            S, I, R = ret.T\n",
    "\n",
    "            H = I * hosp_rate\n",
    "            ICU = I * icu_rate\n",
    "            D = I * fr\n",
    "            T = S + I + R\n",
    "            fatalities = D.cumsum()\n",
    "            beds = np.repeat(beds, time_window+1)\n",
    "\n",
    "            # Output results\n",
    "            new = pd.DataFrame(data=np.array([t,S,I,R,H,ICU,D,fatalities,beds]).T, \n",
    "                                   columns=['days','projected_susceptible','projected_infections','projected_recovered','projected_hospitalisation',\n",
    "                                           'projected_icu','projected_deaths','projected_fatalities','projected_beds'])\n",
    "            new['country'] = ctry\n",
    "            new['max_pop'] = max_pop\n",
    "            new['beta'] = beta\n",
    "            projections = pd.concat([projections,new], axis=0)"
   ]
  },
  {
   "cell_type": "code",
   "execution_count": null,
   "metadata": {},
   "outputs": [],
   "source": [
    "ctry_list = df_cases[['Country/Region', latest_date]].sort_values(by=latest_date, ascending=False).head(50)['Country/Region'].unique()"
   ]
  },
  {
   "cell_type": "code",
   "execution_count": null,
   "metadata": {},
   "outputs": [],
   "source": [
    "projections['date'] = pd.to_datetime(projections.days.apply(lambda x: start_date_dt + timedelta(x)))\n",
    "df_final = projections.merge(df_comb, how='left', on=['country','date'])\n",
    "print(df_final.shape)\n",
    "df_final[df_final['country'].isin(ctry_list)]\n",
    "print(df_final.shape)"
   ]
  },
  {
   "cell_type": "code",
   "execution_count": null,
   "metadata": {},
   "outputs": [],
   "source": [
    "#df_final.to_csv(\"bokeh/df_final.csv\", index=False)\n",
    "df_final.to_csv(\"dash/df_final.csv\", index=False)"
   ]
  },
  {
   "cell_type": "code",
   "execution_count": null,
   "metadata": {},
   "outputs": [],
   "source": [
    "sns.lineplot(data = df_final[df_final.country == 'United Kingdom'], x ='date', y='projected_infections')\n",
    "sns.lineplot(data = df_final[df_final.country == 'United Kingdom'], x ='date', y='actual_cases')"
   ]
  },
  {
   "cell_type": "code",
   "execution_count": null,
   "metadata": {},
   "outputs": [],
   "source": [
    "df_filt = df_final[df_final.days < 30][['date','country','max_pop','beta','actual_cases','projected_infections']].melt(id_vars = ['date', 'country','max_pop','beta'], var_name = 'projection')\n",
    "px.line(df_filt[(df_filt.country == 'United Kingdom') & (df_filt.max_pop == 0.5) & (df_filt.beta == 0.2)],\n",
    "        x='date', y='value', color='projection' )"
   ]
  },
  {
   "cell_type": "code",
   "execution_count": null,
   "metadata": {},
   "outputs": [],
   "source": [
    "df_final.shape"
   ]
  },
  {
   "cell_type": "code",
   "execution_count": null,
   "metadata": {},
   "outputs": [],
   "source": [
    "df_final[df_final.country == 'Iran'].shape"
   ]
  },
  {
   "cell_type": "code",
   "execution_count": null,
   "metadata": {},
   "outputs": [],
   "source": []
  }
 ],
 "metadata": {
  "kernelspec": {
   "display_name": "Python 3",
   "language": "python",
   "name": "python3"
  },
  "language_info": {
   "codemirror_mode": {
    "name": "ipython",
    "version": 3
   },
   "file_extension": ".py",
   "mimetype": "text/x-python",
   "name": "python",
   "nbconvert_exporter": "python",
   "pygments_lexer": "ipython3",
   "version": "3.7.4"
  }
 },
 "nbformat": 4,
 "nbformat_minor": 2
}
